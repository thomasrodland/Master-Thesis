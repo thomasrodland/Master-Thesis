{
 "cells": [
  {
   "cell_type": "markdown",
   "id": "8f2e9acf",
   "metadata": {},
   "source": [
    "# Calculation for Protocol Sizes in FWK21\n",
    "\n",
    "This notebook does some simple calculations for the proof size of the protocol by Farzaliyev et al.\n",
    "In addition to calculations for a simialr protocol with fully splitting rings."
   ]
  },
  {
   "cell_type": "code",
   "execution_count": 80,
   "id": "dd2664f3",
   "metadata": {},
   "outputs": [],
   "source": [
    "import math\n",
    "import matplotlib.pyplot as plt\n",
    "import numpy as np\n",
    "N= 1\n",
    "q = 2**63\n",
    "delta_1 = 2**45\n",
    "lam = 1\n",
    "mu = 1\n",
    "l = 1024\n",
    "d = 4096\n",
    "eta = 2\n",
    "k=4"
   ]
  },
  {
   "cell_type": "code",
   "execution_count": 81,
   "id": "3ef26bb8",
   "metadata": {},
   "outputs": [],
   "source": [
    "def bits_to_megabytes(bits):\n",
    "    \"\"\"Converts bits to megabytes.\"\"\"\n",
    "    return bits / 8000000\n",
    "\n"
   ]
  },
  {
   "cell_type": "markdown",
   "id": "fce81e69",
   "metadata": {},
   "source": [
    "## Theoretical size of the FWK protocol\n",
    "\n",
    "$$\n",
    "(\\mu+8 N+2+\\eta) d\\lfloor\\log q\\rfloor+(\\lambda+\\mu+8 N+2+\\eta) d\\lfloor\\log q\\rfloor+\\eta \\frac{d}{l}\\lfloor\\log q\\rfloor+256\n",
    "$$\n",
    "\n",
    "## Theoretical size of the shortness protocol\n",
    "$$\n",
    "(2 \\lambda+10 N) \\frac{d^2}{l}\\lfloor\\log q\\rfloor+(\\lambda+2 \\mu+7) d\\lfloor\\log q\\rfloor+256\n",
    "$$\n"
   ]
  },
  {
   "cell_type": "markdown",
   "id": "cf82097d",
   "metadata": {},
   "source": [
    "# Shuffle size FWK"
   ]
  },
  {
   "cell_type": "code",
   "execution_count": 82,
   "id": "f977b208",
   "metadata": {},
   "outputs": [
    {
     "data": {
      "text/plain": [
       "6968056.0"
      ]
     },
     "execution_count": 82,
     "metadata": {},
     "output_type": "execute_result"
    }
   ],
   "source": [
    "FWK_shuffle_size=(mu + 8*N +2+ eta)*d*math.log2(q) + (lam +mu +8*N +2 +eta)*d*math.log2(q) + eta*d/l*math.log2(q)+256\n",
    "FWK_shuffle_size"
   ]
  },
  {
   "cell_type": "code",
   "execution_count": 83,
   "id": "b3498e3e",
   "metadata": {},
   "outputs": [
    {
     "data": {
      "text/plain": [
       "0.871007"
      ]
     },
     "execution_count": 83,
     "metadata": {},
     "output_type": "execute_result"
    }
   ],
   "source": [
    "bits_to_megabytes(FWK_shuffle_size)/N #number of megabytes for N=10^5 divided by the number of voters"
   ]
  },
  {
   "cell_type": "markdown",
   "id": "8f2e5261",
   "metadata": {},
   "source": [
    "# Proof of shortness FWK size"
   ]
  },
  {
   "cell_type": "code",
   "execution_count": 84,
   "id": "77c20b92",
   "metadata": {},
   "outputs": [
    {
     "data": {
      "text/plain": [
       "14967040.0"
      ]
     },
     "execution_count": 84,
     "metadata": {},
     "output_type": "execute_result"
    }
   ],
   "source": [
    "FWK_short_size= (2*lam+ 10*N)*((d**2)/l)*math.log2(q)+(lam +2*mu+7)*d*math.log2(q)+256\n",
    "FWK_short_size"
   ]
  },
  {
   "cell_type": "markdown",
   "id": "88690901",
   "metadata": {},
   "source": [
    "## Size per vote"
   ]
  },
  {
   "cell_type": "code",
   "execution_count": 85,
   "id": "fa8bb24a",
   "metadata": {},
   "outputs": [
    {
     "data": {
      "text/plain": [
       "1.87088"
      ]
     },
     "execution_count": 85,
     "metadata": {},
     "output_type": "execute_result"
    }
   ],
   "source": [
    "bits_to_megabytes(FWK_short_size)/N #number of megabytes for N=10^5 divided by the number of voters"
   ]
  },
  {
   "cell_type": "markdown",
   "id": "46de8e00",
   "metadata": {},
   "source": [
    "# Shuffle size FWK with automorphism and fully splitting ring"
   ]
  },
  {
   "cell_type": "markdown",
   "id": "9e2a72ea",
   "metadata": {},
   "source": [
    "## Theoretical size with automorphism\n",
    "$$\n",
    "(\\mu+8 N+2+\\eta) d\\lfloor\\log q\\rfloor+k(\\lambda+\\mu+8 N+2+\\eta) d\\lfloor\\log q\\rfloor+\\eta\\lfloor\\log q\\rfloor+256\n",
    "$$\n",
    "## Theoretical size of the ENS20 shortness protocol\n",
    "\n",
    "$$\n",
    "(\\lambda+n / d+4) d\\lceil\\log q\\rceil+k(\\lambda+\\mu+n / d+3) d\\left\\lceil\\log 2 \\delta_1\\right\\rceil\n",
    "$$\n",
    "\n",
    "setting $n = (\\lambda + 5N)*d$ yields\n",
    "\n",
    "$$\n",
    "(\\mu + \\frac{(\\lambda + 5N)*d}{d} + 4)d \\log q + k(\\lambda + \\mu + (\\lambda +5N) + 3)*d*\\log(2\\delta_1)\n",
    "$$"
   ]
  },
  {
   "cell_type": "code",
   "execution_count": 86,
   "id": "45e2f776",
   "metadata": {},
   "outputs": [
    {
     "data": {
      "text/plain": [
       "17805816.0"
      ]
     },
     "execution_count": 86,
     "metadata": {},
     "output_type": "execute_result"
    }
   ],
   "source": [
    "auto_shuffle_size= (mu + 8*N +2+ eta)*d*math.log2(q) + k*(lam +mu +8*N +2 +eta)*d*math.log2(q) + eta*(d/l)*math.log2(q)\n",
    "auto_shuffle_size"
   ]
  },
  {
   "cell_type": "code",
   "execution_count": 87,
   "id": "8b899ff8",
   "metadata": {},
   "outputs": [
    {
     "data": {
      "text/plain": [
       "2.225727"
      ]
     },
     "execution_count": 87,
     "metadata": {},
     "output_type": "execute_result"
    }
   ],
   "source": [
    "bits_to_megabytes(auto_shuffle_size)/N"
   ]
  },
  {
   "cell_type": "markdown",
   "id": "42a9ea57",
   "metadata": {},
   "source": [
    "# Proof of shortness ENS20"
   ]
  },
  {
   "cell_type": "code",
   "execution_count": 88,
   "id": "9ff0b202",
   "metadata": {},
   "outputs": [
    {
     "data": {
      "text/plain": [
       "11128832.0"
      ]
     },
     "execution_count": 88,
     "metadata": {},
     "output_type": "execute_result"
    }
   ],
   "source": [
    "ENS20_short_size = (mu +(lam + 5*N)*d/d + 4) * d * math.log2(q) + k*(lam + mu + (lam +5*N)*d/d + 3)*d * math.log2(2*delta_1)\n",
    "ENS20_short_size"
   ]
  },
  {
   "cell_type": "code",
   "execution_count": 89,
   "id": "606d9faa",
   "metadata": {},
   "outputs": [
    {
     "data": {
      "text/plain": [
       "1.391104"
      ]
     },
     "execution_count": 89,
     "metadata": {},
     "output_type": "execute_result"
    }
   ],
   "source": [
    "bits_to_megabytes(ENS20_short_size)/N"
   ]
  },
  {
   "cell_type": "markdown",
   "id": "4dbbdf11",
   "metadata": {},
   "source": [
    "# Plotting the size for different values"
   ]
  },
  {
   "cell_type": "code",
   "execution_count": 90,
   "id": "7af63a52",
   "metadata": {},
   "outputs": [],
   "source": [
    "N_values = np.arange(1, 10)  # N from 1 to 100000"
   ]
  },
  {
   "cell_type": "code",
   "execution_count": 91,
   "id": "3c96fb2d",
   "metadata": {},
   "outputs": [],
   "source": [
    "def FWK_size_func(N, mu, eta, d, q, lam, l):\n",
    "    size  = (mu + 8*N +2+ eta)*d*math.log2(q) + (lam +mu +8*N +2 +eta)*d*math.log2(q) + eta*d/l*math.log2(q)+256\n",
    "    short_term = (2*lam+ 10*N)*((d**2)/l)*math.log2(q)+(lam +2*mu+7)*d*math.log2(q)+256\n",
    "    return size+short_term\n",
    "\n",
    "plot_sizes_FWK = FWK_size_func(N_values, mu, eta, d, q, lam, l)\n",
    "\n",
    "def auto_size_func(N, mu, eta, d, q, lam, l):\n",
    "    size_auto  =  (mu + 8*N +2+ eta)*d*math.log2(q) + k*(lam +mu +8*N +2 +eta)*d*math.log2(q) + eta*(d/l)*math.log2(q)\n",
    "    short_term_auto = (mu +(lam + 5*N)*d/d + 4) * d * math.log2(q) + k*(lam + mu + (lam +5*N)*d/d + 3)*d * math.log2(2*delta_1)\n",
    "    return size_auto + short_term_auto\n",
    "\n",
    "plot_sizes_auto = auto_size_func(N_values, mu, eta, d, q, lam, l)"
   ]
  },
  {
   "cell_type": "code",
   "execution_count": 92,
   "id": "67946e14",
   "metadata": {},
   "outputs": [
    {
     "data": {
      "image/png": "[encoded data removed]",
      "text/plain": [
       "<Figure size 1000x600 with 1 Axes>"
      ]
     },
     "metadata": {},
     "output_type": "display_data"
    }
   ],
   "source": [
    "# Plotting\n",
    "plt.figure(figsize=(10, 6))\n",
    "plt.plot(N_values, plot_sizes_FWK, label='FWK Shuffle Size')\n",
    "plt.plot(N_values, plot_sizes_auto, label = 'auto shuffle size')\n",
    "plt.title('FWK and auto Shuffle Size over a Range of N')\n",
    "plt.xlabel('N')\n",
    "plt.ylabel('FWK Shuffle Size(bits)')\n",
    "plt.grid(True)\n",
    "plt.legend()\n",
    "plt.show()"
   ]
  },
  {
   "cell_type": "code",
   "execution_count": null,
   "id": "0a67a514",
   "metadata": {},
   "outputs": [],
   "source": []
  }
 ],
 "metadata": {
  "kernelspec": {
   "display_name": "Python 3 (ipykernel)",
   "language": "python",
   "name": "python3"
  },
  "language_info": {
   "codemirror_mode": {
    "name": "ipython",
    "version": 3
   },
   "file_extension": ".py",
   "mimetype": "text/x-python",
   "name": "python",
   "nbconvert_exporter": "python",
   "pygments_lexer": "ipython3",
   "version": "3.9.5"
  }
 },
 "nbformat": 4,
 "nbformat_minor": 5
}
